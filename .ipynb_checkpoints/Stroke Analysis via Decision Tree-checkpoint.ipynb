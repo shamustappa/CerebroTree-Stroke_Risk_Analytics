{
 "cells": [
  {
   "cell_type": "markdown",
   "id": "5bdd63ae-2275-460d-8221-1e32c9b3b530",
   "metadata": {},
   "source": [
    "# 1. Model Evaluation"
   ]
  },
  {
   "cell_type": "code",
   "execution_count": 27,
   "id": "357d6a81-de15-4fb6-ad6e-2a01cd90551f",
   "metadata": {
    "tags": []
   },
   "outputs": [],
   "source": [
    "import pandas as pd\n",
    "import numpy as np\n",
    "import seaborn as sns\n",
    "import matplotlib.pyplot as plt\n",
    "from sklearn.model_selection import train_test_split #split training and testing data\n",
    "from sklearn.linear_model import LogisticRegression #machine learning"
   ]
  },
  {
   "cell_type": "code",
   "execution_count": 28,
   "id": "ea7fb63b-c5f2-45ca-8146-b7e6b775580d",
   "metadata": {
    "tags": []
   },
   "outputs": [],
   "source": [
    "df = pd.read_csv(\"stroke.csv\")"
   ]
  },
  {
   "cell_type": "code",
   "execution_count": 29,
   "id": "edb21ad8-a3eb-44c2-871b-6c833485cca4",
   "metadata": {
    "tags": []
   },
   "outputs": [
    {
     "name": "stdout",
     "output_type": "stream",
     "text": [
      "<class 'pandas.core.frame.DataFrame'>\n",
      "RangeIndex: 1136 entries, 0 to 1135\n",
      "Data columns (total 11 columns):\n",
      " #   Column             Non-Null Count  Dtype  \n",
      "---  ------             --------------  -----  \n",
      " 0   gender             1136 non-null   int64  \n",
      " 1   age                1136 non-null   int64  \n",
      " 2   hypertension       1136 non-null   int64  \n",
      " 3   heart_disease      1136 non-null   int64  \n",
      " 4   ever_married       1136 non-null   int64  \n",
      " 5   work_type          1136 non-null   int64  \n",
      " 6   Residence_type     1136 non-null   int64  \n",
      " 7   avg_glucose_level  1136 non-null   float64\n",
      " 8   bmi                1084 non-null   float64\n",
      " 9   smoking_status     1136 non-null   int64  \n",
      " 10  stroke             1136 non-null   int64  \n",
      "dtypes: float64(2), int64(9)\n",
      "memory usage: 97.8 KB\n"
     ]
    }
   ],
   "source": [
    "df.info()"
   ]
  },
  {
   "cell_type": "code",
   "execution_count": 30,
   "id": "4b00044f-903a-4453-9c18-52ef7981e5fc",
   "metadata": {
    "tags": []
   },
   "outputs": [
    {
     "data": {
      "text/html": [
       "<div>\n",
       "<style scoped>\n",
       "    .dataframe tbody tr th:only-of-type {\n",
       "        vertical-align: middle;\n",
       "    }\n",
       "\n",
       "    .dataframe tbody tr th {\n",
       "        vertical-align: top;\n",
       "    }\n",
       "\n",
       "    .dataframe thead th {\n",
       "        text-align: right;\n",
       "    }\n",
       "</style>\n",
       "<table border=\"1\" class=\"dataframe\">\n",
       "  <thead>\n",
       "    <tr style=\"text-align: right;\">\n",
       "      <th></th>\n",
       "      <th>gender</th>\n",
       "      <th>age</th>\n",
       "      <th>hypertension</th>\n",
       "      <th>heart_disease</th>\n",
       "      <th>ever_married</th>\n",
       "      <th>work_type</th>\n",
       "      <th>Residence_type</th>\n",
       "      <th>avg_glucose_level</th>\n",
       "      <th>bmi</th>\n",
       "      <th>smoking_status</th>\n",
       "      <th>stroke</th>\n",
       "    </tr>\n",
       "  </thead>\n",
       "  <tbody>\n",
       "    <tr>\n",
       "      <th>0</th>\n",
       "      <td>2</td>\n",
       "      <td>31</td>\n",
       "      <td>0</td>\n",
       "      <td>0</td>\n",
       "      <td>2</td>\n",
       "      <td>4</td>\n",
       "      <td>1</td>\n",
       "      <td>70.66</td>\n",
       "      <td>27.2</td>\n",
       "      <td>4</td>\n",
       "      <td>0</td>\n",
       "    </tr>\n",
       "    <tr>\n",
       "      <th>1</th>\n",
       "      <td>2</td>\n",
       "      <td>13</td>\n",
       "      <td>0</td>\n",
       "      <td>0</td>\n",
       "      <td>2</td>\n",
       "      <td>1</td>\n",
       "      <td>1</td>\n",
       "      <td>85.81</td>\n",
       "      <td>18.6</td>\n",
       "      <td>2</td>\n",
       "      <td>0</td>\n",
       "    </tr>\n",
       "    <tr>\n",
       "      <th>2</th>\n",
       "      <td>1</td>\n",
       "      <td>18</td>\n",
       "      <td>0</td>\n",
       "      <td>0</td>\n",
       "      <td>2</td>\n",
       "      <td>2</td>\n",
       "      <td>2</td>\n",
       "      <td>60.56</td>\n",
       "      <td>33.0</td>\n",
       "      <td>4</td>\n",
       "      <td>0</td>\n",
       "    </tr>\n",
       "    <tr>\n",
       "      <th>3</th>\n",
       "      <td>2</td>\n",
       "      <td>65</td>\n",
       "      <td>0</td>\n",
       "      <td>0</td>\n",
       "      <td>1</td>\n",
       "      <td>2</td>\n",
       "      <td>2</td>\n",
       "      <td>205.77</td>\n",
       "      <td>46.0</td>\n",
       "      <td>3</td>\n",
       "      <td>1</td>\n",
       "    </tr>\n",
       "    <tr>\n",
       "      <th>4</th>\n",
       "      <td>1</td>\n",
       "      <td>4</td>\n",
       "      <td>0</td>\n",
       "      <td>0</td>\n",
       "      <td>2</td>\n",
       "      <td>1</td>\n",
       "      <td>1</td>\n",
       "      <td>90.42</td>\n",
       "      <td>16.2</td>\n",
       "      <td>2</td>\n",
       "      <td>0</td>\n",
       "    </tr>\n",
       "  </tbody>\n",
       "</table>\n",
       "</div>"
      ],
      "text/plain": [
       "   gender  age  hypertension  heart_disease  ever_married  work_type  \\\n",
       "0       2   31             0              0             2          4   \n",
       "1       2   13             0              0             2          1   \n",
       "2       1   18             0              0             2          2   \n",
       "3       2   65             0              0             1          2   \n",
       "4       1    4             0              0             2          1   \n",
       "\n",
       "   Residence_type  avg_glucose_level   bmi  smoking_status  stroke  \n",
       "0               1              70.66  27.2               4       0  \n",
       "1               1              85.81  18.6               2       0  \n",
       "2               2              60.56  33.0               4       0  \n",
       "3               2             205.77  46.0               3       1  \n",
       "4               1              90.42  16.2               2       0  "
      ]
     },
     "execution_count": 30,
     "metadata": {},
     "output_type": "execute_result"
    }
   ],
   "source": [
    "df.head()"
   ]
  },
  {
   "cell_type": "code",
   "execution_count": 31,
   "id": "4db04e74-0beb-4dd6-aa27-1e95c36dca18",
   "metadata": {
    "tags": []
   },
   "outputs": [
    {
     "name": "stdout",
     "output_type": "stream",
     "text": [
      "Number of unique values in each column:\n",
      "gender                  3\n",
      "age                    83\n",
      "hypertension            2\n",
      "heart_disease           2\n",
      "ever_married            2\n",
      "work_type               5\n",
      "Residence_type          2\n",
      "avg_glucose_level    1068\n",
      "bmi                   308\n",
      "smoking_status          4\n",
      "stroke                  2\n",
      "dtype: int64\n"
     ]
    }
   ],
   "source": [
    "# Get the number of unique values in each column\n",
    "unique_counts = df.nunique()\n",
    "\n",
    "print(\"Number of unique values in each column:\")\n",
    "print(unique_counts)"
   ]
  },
  {
   "cell_type": "code",
   "execution_count": 32,
   "id": "19b4d512-2237-4769-86ce-bb8147af4c2e",
   "metadata": {
    "tags": []
   },
   "outputs": [
    {
     "data": {
      "text/plain": [
       "array([0, 1], dtype=int64)"
      ]
     },
     "execution_count": 32,
     "metadata": {},
     "output_type": "execute_result"
    }
   ],
   "source": [
    "df.stroke.unique()"
   ]
  },
  {
   "cell_type": "markdown",
   "id": "2d234496-11dd-403a-a56f-d993320eabd4",
   "metadata": {},
   "source": [
    "### Data Cleaning"
   ]
  },
  {
   "cell_type": "markdown",
   "id": "fad265e4-577f-47b6-bce0-a570deeac1e4",
   "metadata": {},
   "source": [
    "Option 1: Mean Imputation"
   ]
  },
  {
   "cell_type": "code",
   "execution_count": 33,
   "id": "280f4176-170f-47b7-b394-aaea7ed3b754",
   "metadata": {
    "tags": []
   },
   "outputs": [],
   "source": [
    "# Replace the missing values with the mean value of the bmi column.\n",
    "\n",
    "df['bmi'].fillna(df['bmi'].mean(), inplace=True)"
   ]
  },
  {
   "cell_type": "markdown",
   "id": "71f90dbb-e16e-4cb0-bf8e-f1bcfc69875a",
   "metadata": {},
   "source": [
    "Option 2: Advanced Imputation"
   ]
  },
  {
   "cell_type": "code",
   "execution_count": 34,
   "id": "b7f5c030-c762-47c2-ab4c-ff2df8073318",
   "metadata": {
    "tags": []
   },
   "outputs": [],
   "source": [
    "# Can also use advanced imputation techniques like k-Nearest Neighbors to predict the missing value based on its 'k' nearest neighbors.\n",
    "\n",
    "from sklearn.impute import KNNImputer\n",
    "imputer = KNNImputer(n_neighbors=5)\n",
    "df[['bmi']] = imputer.fit_transform(df[['bmi']])"
   ]
  },
  {
   "cell_type": "markdown",
   "id": "dcfdd870-953b-4075-b34d-dd96992df619",
   "metadata": {},
   "source": [
    "### Split the Data"
   ]
  },
  {
   "cell_type": "code",
   "execution_count": 35,
   "id": "fa7fd559-3972-484b-8a7a-28b473c2b43d",
   "metadata": {
    "tags": []
   },
   "outputs": [],
   "source": [
    "X = df.drop(['stroke'], axis=1)\n",
    "y = df.stroke.values\n",
    "\n",
    "# Split the data into training and testing sets\n",
    "X_train, X_test, y_train, y_test = train_test_split(X, y, test_size=0.3, random_state=42)"
   ]
  },
  {
   "cell_type": "markdown",
   "id": "2e030e51-64b9-4eda-a171-414bc20310a8",
   "metadata": {},
   "source": [
    "### Fit and Eval the Model"
   ]
  },
  {
   "cell_type": "code",
   "execution_count": 36,
   "id": "0b1d3c20-9d90-4bdd-88d1-add35ea3e968",
   "metadata": {
    "tags": []
   },
   "outputs": [],
   "source": [
    "accuracies = {}"
   ]
  },
  {
   "cell_type": "code",
   "execution_count": 37,
   "id": "66c3229c-838a-43da-bb7e-7065e744535b",
   "metadata": {
    "tags": []
   },
   "outputs": [
    {
     "name": "stdout",
     "output_type": "stream",
     "text": [
      "Test Accuracy 85.63049853372434\n"
     ]
    },
    {
     "name": "stderr",
     "output_type": "stream",
     "text": [
      "C:\\Users\\shamu\\anaconda3\\Lib\\site-packages\\sklearn\\linear_model\\_logistic.py:460: ConvergenceWarning: lbfgs failed to converge (status=1):\n",
      "STOP: TOTAL NO. of ITERATIONS REACHED LIMIT.\n",
      "\n",
      "Increase the number of iterations (max_iter) or scale the data as shown in:\n",
      "    https://scikit-learn.org/stable/modules/preprocessing.html\n",
      "Please also refer to the documentation for alternative solver options:\n",
      "    https://scikit-learn.org/stable/modules/linear_model.html#logistic-regression\n",
      "  n_iter_i = _check_optimize_result(\n"
     ]
    }
   ],
   "source": [
    "lr = LogisticRegression()\n",
    "lr.fit(X_train, y_train)\n",
    "\n",
    "acc = lr.score(X_test, y_test)*100\n",
    "accuracies['Logistic Regression'] = acc\n",
    "\n",
    "print(\"Test Accuracy {}\".format(acc))"
   ]
  },
  {
   "cell_type": "code",
   "execution_count": 38,
   "id": "a5ba3996-f733-4661-9eed-7d4b2acd5560",
   "metadata": {
    "tags": []
   },
   "outputs": [
    {
     "name": "stdout",
     "output_type": "stream",
     "text": [
      "Test Accuracy 82.11143695014663\n"
     ]
    }
   ],
   "source": [
    "from sklearn.tree import DecisionTreeClassifier\n",
    "dtc = DecisionTreeClassifier()\n",
    "dtc.fit(X_train, y_train)\n",
    "\n",
    "acc = dtc.score(X_test, y_test)*100\n",
    "\n",
    "accuracies['Decision Tree Classifier'] = acc\n",
    "print(\"Test Accuracy {}\".format(acc))"
   ]
  },
  {
   "cell_type": "code",
   "execution_count": 39,
   "id": "64b59bc6-775c-4903-8f86-26cce147a2e7",
   "metadata": {
    "tags": []
   },
   "outputs": [
    {
     "name": "stdout",
     "output_type": "stream",
     "text": [
      "Test Accuracy 84.4574780058651\n"
     ]
    }
   ],
   "source": [
    "from sklearn.ensemble import RandomForestClassifier\n",
    "rfc = RandomForestClassifier()\n",
    "rfc.fit(X_train, y_train)\n",
    "\n",
    "acc = rfc.score(X_test, y_test)*100\n",
    "accuracies['Random Forest Classifier'] = acc\n",
    "\n",
    "print(\"Test Accuracy {}\".format(acc))"
   ]
  },
  {
   "cell_type": "code",
   "execution_count": 40,
   "id": "c4daba9a-b537-4222-a21e-10015d04449f",
   "metadata": {
    "tags": []
   },
   "outputs": [
    {
     "name": "stdout",
     "output_type": "stream",
     "text": [
      "Test Accuracy 81.81818181818183\n"
     ]
    }
   ],
   "source": [
    "from sklearn.neighbors import KNeighborsClassifier\n",
    "knn = KNeighborsClassifier()\n",
    "knn.fit(X_train, y_train)\n",
    "\n",
    "acc = knn.score(X_test, y_test)*100\n",
    "accuracies['KNeighbors Classifier'] = acc\n",
    "\n",
    "print(\"Test Accuracy {}\".format(acc))"
   ]
  },
  {
   "cell_type": "code",
   "execution_count": 41,
   "id": "22d78e24-0982-4001-9a83-11f94cb0736e",
   "metadata": {
    "tags": []
   },
   "outputs": [
    {
     "name": "stdout",
     "output_type": "stream",
     "text": [
      "Logistic Regression: 85.63%\n",
      "Decision Tree Classifier: 82.11%\n",
      "Random Forest Classifier: 84.46%\n",
      "KNeighbors Classifier: 81.82%\n"
     ]
    }
   ],
   "source": [
    "# Conclusion\n",
    "for model, accuracy in accuracies.items():\n",
    "    print(f\"{model}: {accuracy:.2f}%\") #f-string"
   ]
  },
  {
   "cell_type": "code",
   "execution_count": 42,
   "id": "07e12e0b-e970-4747-8628-677108fb8f65",
   "metadata": {
    "tags": []
   },
   "outputs": [
    {
     "data": {
      "image/png": "[encoded data removed]",
      "text/plain": [
       "<Figure size 1000x500 with 1 Axes>"
      ]
     },
     "metadata": {},
     "output_type": "display_data"
    }
   ],
   "source": [
    "colors = [\"purple\", \"green\", \"orange\", \"blue\"]\n",
    "\n",
    "sns.set_style(\"whitegrid\")\n",
    "plt.figure(figsize=(10, 5))\n",
    "plt.yticks(np.arange(0, 100, 10))\n",
    "plt.xlabel(\"Models\")\n",
    "plt.ylabel(\"Accuracy (%)\")\n",
    "\n",
    "ax = sns.barplot(x=list(accuracies.keys()), y=list(accuracies.values()), palette=colors)\n",
    "\n",
    "for container in ax.containers:\n",
    "    ax.bar_label(container)\n",
    "\n",
    "plt.show()"
   ]
  },
  {
   "cell_type": "code",
   "execution_count": 43,
   "id": "4791666f-1416-4c09-90ed-6e35d38f541f",
   "metadata": {
    "tags": []
   },
   "outputs": [],
   "source": [
    "from sklearn.metrics import confusion_matrix"
   ]
  },
  {
   "cell_type": "markdown",
   "id": "82e491c2-ae21-4210-b6b6-1461f62b1d4f",
   "metadata": {
    "tags": []
   },
   "source": [
    "# 2. Feature Importance"
   ]
  },
  {
   "cell_type": "code",
   "execution_count": 44,
   "id": "edda69ab-4a92-4b47-8702-4ccbe166d069",
   "metadata": {
    "tags": []
   },
   "outputs": [],
   "source": [
    "import pandas as pd\n",
    "import numpy as np\n",
    "import matplotlib.pyplot as plt\n",
    "from sklearn.model_selection import train_test_split\n",
    "from sklearn.ensemble import RandomForestClassifier\n",
    "from sklearn.metrics import accuracy_score\n",
    "from sklearn.datasets import load_iris\n",
    "from sklearn.inspection import permutation_importance"
   ]
  },
  {
   "cell_type": "code",
   "execution_count": 45,
   "id": "ef03bd20-bf5f-4d9d-82cd-d92a93111c18",
   "metadata": {
    "tags": []
   },
   "outputs": [],
   "source": [
    "X = df.drop(['stroke'], axis=1)\n",
    "y = df.stroke.values"
   ]
  },
  {
   "cell_type": "code",
   "execution_count": 46,
   "id": "f355dd96-e5ab-4be8-94ff-6390bfa32bbb",
   "metadata": {
    "tags": []
   },
   "outputs": [],
   "source": [
    "X_train, X_test, y_train, y_test = train_test_split(X, y, test_size=0.2, random_state=42)"
   ]
  },
  {
   "cell_type": "code",
   "execution_count": 47,
   "id": "2ce49e1f-5cfa-4882-9d06-5e433ad23fa4",
   "metadata": {
    "tags": []
   },
   "outputs": [
    {
     "name": "stdout",
     "output_type": "stream",
     "text": [
      "Accuracy: 0.88\n"
     ]
    }
   ],
   "source": [
    "rf_classifier = RandomForestClassifier(random_state=42)\n",
    "rf_classifier.fit(X_train, y_train)\n",
    "\n",
    "# Predictions\n",
    "y_pred = rf_classifier.predict(X_test)\n",
    "\n",
    "# Calculate accuracy\n",
    "accuracy = accuracy_score(y_test, y_pred)\n",
    "print(f\"Accuracy: {accuracy:.2f}\")"
   ]
  },
  {
   "cell_type": "code",
   "execution_count": 48,
   "id": "02e9ce02-4e32-4cb9-8846-a28de62f5962",
   "metadata": {
    "tags": []
   },
   "outputs": [
    {
     "data": {
      "image/png": "[encoded data removed]",
      "text/plain": [
       "<Figure size 640x480 with 1 Axes>"
      ]
     },
     "metadata": {},
     "output_type": "display_data"
    }
   ],
   "source": [
    "perm_importance = permutation_importance(rf_classifier, X_test, y_test, n_repeats=30, random_state=42)\n",
    "\n",
    "# Get feature names\n",
    "feature_names = X_test.columns\n",
    "\n",
    "# Calculate mean importance and sort features\n",
    "mean_importance = perm_importance.importances_mean\n",
    "sorted_idx = mean_importance.argsort()\n",
    "\n",
    "# Plot permutation importance\n",
    "plt.barh(range(len(sorted_idx)), mean_importance[sorted_idx], align='center')\n",
    "plt.yticks(range(len(sorted_idx)), [feature_names[i] for i in sorted_idx])\n",
    "plt.xlabel('Permutation Importance')\n",
    "plt.title('Permutation Importance (Random Forest)')\n",
    "plt.show()"
   ]
  },
  {
   "cell_type": "code",
   "execution_count": 49,
   "id": "885fec34-158e-4164-9453-c7eef95e770d",
   "metadata": {
    "tags": []
   },
   "outputs": [
    {
     "data": {
      "image/png": "[encoded data removed]",
      "text/plain": [
       "<Figure size 640x480 with 1 Axes>"
      ]
     },
     "metadata": {},
     "output_type": "display_data"
    }
   ],
   "source": [
    "# Get feature importances from RandomForest\n",
    "rf_feature_importances = rf_classifier.feature_importances_\n",
    "\n",
    "# Sort features by importance\n",
    "sorted_idx_rf = rf_feature_importances.argsort()\n",
    "\n",
    "# Plot feature importances from RandomForest\n",
    "plt.barh(range(len(sorted_idx_rf)), rf_feature_importances[sorted_idx_rf], align='center')\n",
    "plt.yticks(range(len(sorted_idx_rf)), [feature_names[i] for i in sorted_idx_rf])\n",
    "plt.xlabel('Feature Importance')\n",
    "plt.title('Feature Importance (Random Forest)')\n",
    "plt.show()"
   ]
  },
  {
   "cell_type": "markdown",
   "id": "a40a73e0-8349-4851-a25b-f93c95ec2a60",
   "metadata": {},
   "source": [
    "# 3. Modelling (Determine Accuracy)"
   ]
  },
  {
   "cell_type": "code",
   "execution_count": 50,
   "id": "1d7a3cd3-3d7b-482b-9816-34fcf1d53be4",
   "metadata": {
    "tags": []
   },
   "outputs": [
    {
     "name": "stdout",
     "output_type": "stream",
     "text": [
      "Collecting package metadata (current_repodata.json): ...working... done\n",
      "Solving environment: ...working... done\n",
      "\n",
      "# All requested packages already installed.\n",
      "\n",
      "\n",
      "Note: you may need to restart the kernel to use updated packages.\n"
     ]
    }
   ],
   "source": [
    "conda install -c anaconda graphviz"
   ]
  },
  {
   "cell_type": "code",
   "execution_count": 51,
   "id": "7b2dd5fd-86c1-4298-b9dc-4a2185f4df2b",
   "metadata": {
    "tags": []
   },
   "outputs": [
    {
     "name": "stdout",
     "output_type": "stream",
     "text": [
      "Requirement already satisfied: pydotplus in c:\\users\\shamu\\anaconda3\\lib\\site-packages (2.0.2)\n",
      "Requirement already satisfied: pyparsing>=2.0.1 in c:\\users\\shamu\\anaconda3\\lib\\site-packages (from pydotplus) (3.0.9)\n",
      "Note: you may need to restart the kernel to use updated packages.\n"
     ]
    }
   ],
   "source": [
    "pip install pydotplus"
   ]
  },
  {
   "cell_type": "code",
   "execution_count": 55,
   "id": "2188d2ae-af4a-4a00-b340-7818e5aca7f3",
   "metadata": {
    "tags": []
   },
   "outputs": [],
   "source": [
    "from sklearn.tree import DecisionTreeClassifier, export_graphviz #Decision tree\n",
    "import pydotplus"
   ]
  },
  {
   "cell_type": "code",
   "execution_count": 56,
   "id": "56991ed5-66c1-4560-a66f-428edf59fb5a",
   "metadata": {
    "tags": []
   },
   "outputs": [
    {
     "data": {
      "text/plain": [
       "True"
      ]
     },
     "execution_count": 56,
     "metadata": {},
     "output_type": "execute_result"
    }
   ],
   "source": [
    "# Create and fit the decision tree\n",
    "clf_dt = DecisionTreeClassifier(criterion = 'gini', max_depth = 3)\n",
    "clf_dt.fit(f, t)\n",
    "\n",
    "# Export resulting tree to DOT source code string\n",
    "dot_data = export_graphviz(clf_dt,\n",
    "                                feature_names=important_features,\n",
    "                                out_file=None,\n",
    "                                filled=True,\n",
    "                                rounded=True)\n",
    "\n",
    "pydot_graph = pydotplus.graph_from_dot_data(dot_data)\n",
    "pydot_graph.write_png('tree.png')"
   ]
  },
  {
   "cell_type": "code",
   "execution_count": 53,
   "id": "97b32167-904c-49f5-a52a-469e6546fbcf",
   "metadata": {
    "tags": []
   },
   "outputs": [],
   "source": [
    "important_features = ['age', 'avg_glucose_level', 'bmi', 'work_type']\n",
    "f = df[important_features]  # input\n",
    "t = df['stroke']  # target"
   ]
  }
 ],
 "metadata": {
  "kernelspec": {
   "display_name": "Python 3 (ipykernel)",
   "language": "python",
   "name": "python3"
  },
  "language_info": {
   "codemirror_mode": {
    "name": "ipython",
    "version": 3
   },
   "file_extension": ".py",
   "mimetype": "text/x-python",
   "name": "python",
   "nbconvert_exporter": "python",
   "pygments_lexer": "ipython3",
   "version": "3.11.5"
  }
 },
 "nbformat": 4,
 "nbformat_minor": 5
}
